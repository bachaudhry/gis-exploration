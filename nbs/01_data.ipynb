{
 "cells": [
  {
   "cell_type": "markdown",
   "id": "74b1ccd6-c3ee-44fe-98f5-b503ebcce1ca",
   "metadata": {},
   "source": [
    "# **Download and Explore Satellite Imagery Data for Floods**"
   ]
  },
  {
   "cell_type": "code",
   "execution_count": 3,
   "id": "cdc573df-0a60-4f46-ba65-f171dbc5eb32",
   "metadata": {},
   "outputs": [],
   "source": [
    "import rasterio as rs\n",
    "from PIL import Image\n",
    "import random, os, numpy as np\n",
    "from time import time\n",
    "import matplotlib.pyplot as plt\n",
    "from pathlib import Path"
   ]
  },
  {
   "cell_type": "code",
   "execution_count": 2,
   "id": "6f877f1e-da35-4780-b3f8-c721c3069101",
   "metadata": {},
   "outputs": [],
   "source": [
    "import warnings \n",
    "warnings.filterwarnings('ignore')"
   ]
  },
  {
   "cell_type": "code",
   "execution_count": null,
   "id": "3d4d9031-9555-4cf5-a93f-d50e27fdaa6b",
   "metadata": {},
   "outputs": [],
   "source": []
  },
  {
   "cell_type": "markdown",
   "id": "da27bae7-6138-4a6c-acd9-973d70d2a1a8",
   "metadata": {},
   "source": [
    "## Sen1Floods11"
   ]
  },
  {
   "cell_type": "markdown",
   "id": "d32db0ad-4b1a-459b-9787-0ed5bf007680",
   "metadata": {},
   "source": [
    "This data's citation is:\n",
    "> Bonafilia, D., Tellman, B., Anderson, T., Issenberg, E. 2020. Sen1Floods11: a georeferenced dataset to train and test deep learning flood algorithms for Sentinel-1. The IEEE/CVF Conference on Computer Vision and Pattern Recognition (CVPR) Workshops, 2020, pp. 210-211.\n",
    "\n",
    "[The paper is available via open access](http://openaccess.thecvf.com/content_CVPRW_2020/html/w11/Bonafilia_Sen1Floods11_A_Georeferenced_Dataset_to_Train_and_Test_Deep_Learning_CVPRW_2020_paper.html)\n",
    "\n",
    "The GCS bucket is split into subfolders containing data, checkpoints, training/testing splits and a [STAC](https://stacspec.org) compliant catalogue.\n",
    "\n",
    "For additional details on how the data is structured and what is represented in the meta data, head over to the [github repo](https://github.com/cloudtostreet/Sen1Floods11/tree/master)"
   ]
  },
  {
   "cell_type": "code",
   "execution_count": 13,
   "id": "b642e3fc-48f9-4e49-9ffc-230daec0d610",
   "metadata": {},
   "outputs": [],
   "source": [
    "path_data = Path('/gis-exploration/data/downloads')"
   ]
  },
  {
   "cell_type": "code",
   "execution_count": 29,
   "id": "a1d3baa4-d879-481a-b4e7-0d4646029390",
   "metadata": {},
   "outputs": [
    {
     "name": "stdout",
     "output_type": "stream",
     "text": [
      "total 10252\n",
      "-rw-r--r-- 1 ba_ch ba_ch    14092 Oct 15  2020 Sen1Floods11_Metadata.geojson\n",
      "drwxr-xr-x 6 ba_ch ba_ch     4096 Mar 10 16:03 catalog\n",
      "-rw-r--r-- 1 ba_ch ba_ch 10467733 Oct 15  2020 catalog.zip\n",
      "drwxr-xr-x 2 ba_ch ba_ch     4096 Mar 10 16:13 checkpoints\n",
      "drwxr-xr-x 3 ba_ch ba_ch     4096 Mar 10 16:04 data\n"
     ]
    }
   ],
   "source": [
    "!ls -l /home/ba_ch/nbs/gis-exploration/data/downloads/v1.1/"
   ]
  },
  {
   "cell_type": "code",
   "execution_count": null,
   "id": "176dbd9b-6946-49cd-9d6e-de437a7062a3",
   "metadata": {},
   "outputs": [],
   "source": []
  },
  {
   "cell_type": "code",
   "execution_count": null,
   "id": "75126bfb-c677-42db-8fd6-76b30f88ebb0",
   "metadata": {},
   "outputs": [],
   "source": []
  },
  {
   "cell_type": "code",
   "execution_count": null,
   "id": "4af47d15-8bd7-49f6-a513-6f9c04f075cf",
   "metadata": {},
   "outputs": [],
   "source": []
  },
  {
   "cell_type": "code",
   "execution_count": null,
   "id": "fea592af-f9ba-465d-996b-1ecf6519ccc7",
   "metadata": {},
   "outputs": [],
   "source": []
  },
  {
   "cell_type": "code",
   "execution_count": null,
   "id": "7ed55be5-9e6b-4986-9abb-d3ea6c4f5c0c",
   "metadata": {},
   "outputs": [],
   "source": []
  },
  {
   "cell_type": "code",
   "execution_count": null,
   "id": "8c0b35b4-220b-4f2b-84b7-4e8b7e0649b4",
   "metadata": {},
   "outputs": [],
   "source": []
  },
  {
   "cell_type": "code",
   "execution_count": null,
   "id": "428f5b12-02ad-479b-982d-3c58c348158e",
   "metadata": {},
   "outputs": [],
   "source": []
  },
  {
   "cell_type": "code",
   "execution_count": null,
   "id": "5050a91a-1d3d-419e-991a-e7adef08ba2f",
   "metadata": {},
   "outputs": [],
   "source": []
  },
  {
   "cell_type": "code",
   "execution_count": null,
   "id": "6af10813-a7e0-4932-b25e-bc617b014feb",
   "metadata": {},
   "outputs": [],
   "source": []
  },
  {
   "cell_type": "code",
   "execution_count": null,
   "id": "8f93f9e3-359b-4388-8a05-aad0600caf92",
   "metadata": {},
   "outputs": [],
   "source": []
  },
  {
   "cell_type": "code",
   "execution_count": null,
   "id": "61ca3cd3-0924-4461-af82-ea56e47736d5",
   "metadata": {},
   "outputs": [],
   "source": []
  },
  {
   "cell_type": "code",
   "execution_count": null,
   "id": "c34e3a01-3190-4e31-a0a3-856950cce90b",
   "metadata": {},
   "outputs": [],
   "source": []
  },
  {
   "cell_type": "code",
   "execution_count": null,
   "id": "ed9378c3-032c-4dfe-a505-eed642bba4da",
   "metadata": {},
   "outputs": [],
   "source": []
  },
  {
   "cell_type": "code",
   "execution_count": null,
   "id": "aa439ff3-5f6b-46c0-992d-86fb8bb6df19",
   "metadata": {},
   "outputs": [],
   "source": []
  },
  {
   "cell_type": "code",
   "execution_count": null,
   "id": "0380dc7a-7770-4ad3-a757-c5267579511a",
   "metadata": {},
   "outputs": [],
   "source": []
  },
  {
   "cell_type": "code",
   "execution_count": null,
   "id": "044894fe-0bea-4da4-ba68-42f8279b9800",
   "metadata": {},
   "outputs": [],
   "source": []
  }
 ],
 "metadata": {
  "kernelspec": {
   "display_name": "Python 3 (ipykernel)",
   "language": "python",
   "name": "python3"
  },
  "language_info": {
   "codemirror_mode": {
    "name": "ipython",
    "version": 3
   },
   "file_extension": ".py",
   "mimetype": "text/x-python",
   "name": "python",
   "nbconvert_exporter": "python",
   "pygments_lexer": "ipython3",
   "version": "3.12.0"
  }
 },
 "nbformat": 4,
 "nbformat_minor": 5
}
